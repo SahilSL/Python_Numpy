{
 "cells": [
  {
   "cell_type": "code",
   "execution_count": null,
   "id": "8a7b31a0",
   "metadata": {},
   "outputs": [],
   "source": [
    "Creating Array in Numpy ---->\n",
    "* To create array in python using numpy library, use following steps:\n",
    "    - Import numpy library\n",
    "    - Using array method, create array of any dimensional\n",
    "    - Output the array\n",
    "* elements must be same inside the square brackets ([---])"
   ]
  },
  {
   "cell_type": "code",
   "execution_count": 1,
   "id": "416d2899",
   "metadata": {},
   "outputs": [
    {
     "name": "stdout",
     "output_type": "stream",
     "text": [
      "[1 2 3 4 5 6]\n"
     ]
    }
   ],
   "source": [
    "import numpy as np\n",
    "arr=np.array([1,2,3,4,5,6])\n",
    "print(arr)"
   ]
  },
  {
   "cell_type": "code",
   "execution_count": null,
   "id": "4d72a0eb",
   "metadata": {},
   "outputs": [],
   "source": [
    "To access array elements we need index number.\n",
    "Array element have index number which start from 0 to n-1, where n means total number of element."
   ]
  },
  {
   "cell_type": "code",
   "execution_count": 4,
   "id": "c7b35118",
   "metadata": {},
   "outputs": [
    {
     "name": "stdout",
     "output_type": "stream",
     "text": [
      "1\n",
      "6\n",
      "1\n",
      "6\n"
     ]
    }
   ],
   "source": [
    "import numpy as np\n",
    "arr=np.array([1,2,3,4,5,6])\n",
    "print(arr[0])\n",
    "print(arr[5])\n",
    "print(arr[-6])\n",
    "print(arr[-1])"
   ]
  },
  {
   "cell_type": "code",
   "execution_count": 7,
   "id": "3d199e2a",
   "metadata": {},
   "outputs": [
    {
     "name": "stdout",
     "output_type": "stream",
     "text": [
      "Sahil\n",
      "Leo\n",
      "Sahil\n",
      "Leo\n"
     ]
    }
   ],
   "source": [
    "import numpy as np\n",
    "arr=np.array(['Sahil','Siddhant','Sam','Rocky','Leo'], dtype=np.str_)\n",
    "print(arr[0])\n",
    "print(arr[4])\n",
    "print(arr[-5])\n",
    "print(arr[-1])"
   ]
  },
  {
   "cell_type": "code",
   "execution_count": null,
   "id": "6e9c029f",
   "metadata": {},
   "outputs": [],
   "source": [
    "Indexing and Slicing:\n",
    "    - To access array element we used index number.\n",
    "    - Array element have index number which start from 0 to n-1, where n means total number of element.\n",
    "    - Index: It take only one number to get required value.\n",
    "    - Slicing: It take more than one number to output specific element or set of element."
   ]
  },
  {
   "cell_type": "code",
   "execution_count": 8,
   "id": "33101226",
   "metadata": {},
   "outputs": [
    {
     "name": "stdout",
     "output_type": "stream",
     "text": [
      "1\n"
     ]
    }
   ],
   "source": [
    "#indexing\n",
    "#1d array\n",
    "import numpy as np\n",
    "arr=np.array([1,2,3,4,5,6])\n",
    "print(arr[0])\n"
   ]
  },
  {
   "cell_type": "code",
   "execution_count": 15,
   "id": "01b913fc",
   "metadata": {},
   "outputs": [
    {
     "name": "stdout",
     "output_type": "stream",
     "text": [
      "1\n",
      "2\n",
      "3\n",
      "4\n",
      "5\n",
      "6\n"
     ]
    }
   ],
   "source": [
    "#indexing\n",
    "#2d array\n",
    "import numpy as np\n",
    "arr=np.array([\n",
    "              [1,2,3],\n",
    "              [4,5,6]\n",
    "             ]\n",
    "            )\n",
    "print(arr[0,0])   \n",
    "print(arr[0,1])\n",
    "print(arr[0,2])\n",
    "\n",
    "print(arr[1,0])\n",
    "print(arr[1,1])\n",
    "print(arr[1,2])"
   ]
  },
  {
   "cell_type": "code",
   "execution_count": null,
   "id": "1955451a",
   "metadata": {},
   "outputs": [],
   "source": [
    "#ndarray Objects in Numpy ---->\n",
    "* It is the object of array\n",
    "* It stand for n-dimensional array\n",
    "* Stores homogenous elements\n",
    "* Same data type of element\n",
    "* Fundamental Data Structure of Numpy\n",
    "* Powerful & flexible \n",
    "* It have different attribute and methods"
   ]
  },
  {
   "cell_type": "code",
   "execution_count": null,
   "id": "e629b295-e913-4812-a5b2-ba431fe71f0e",
   "metadata": {},
   "outputs": [],
   "source": [
    "import numpy as np\n",
    "arr = np.array([1,2,3,4,5])\n",
    "# 'arr' is the variable referencing the ndarray object"
   ]
  },
  {
   "cell_type": "code",
   "execution_count": 2,
   "id": "0572644c-a21d-4b24-8053-34fd38828bcb",
   "metadata": {
    "scrolled": true
   },
   "outputs": [
    {
     "name": "stdout",
     "output_type": "stream",
     "text": [
      "5\n"
     ]
    }
   ],
   "source": [
    "import numpy as np\n",
    "arr = np.array([1,2,3,4,5])\n",
    "print(arr.size)"
   ]
  },
  {
   "cell_type": "code",
   "execution_count": 6,
   "id": "4c74fce6-38bf-4d69-b36b-83bb50888976",
   "metadata": {},
   "outputs": [
    {
     "name": "stdout",
     "output_type": "stream",
     "text": [
      "6\n"
     ]
    }
   ],
   "source": [
    "import numpy as np\n",
    "arr = np.array([[1,2,3],\n",
    "                [4,5,6]])\n",
    "print(arr.size)"
   ]
  },
  {
   "cell_type": "code",
   "execution_count": 3,
   "id": "fb0da73a-0e84-4898-9883-9dfba0078152",
   "metadata": {},
   "outputs": [
    {
     "name": "stdout",
     "output_type": "stream",
     "text": [
      "(5,)\n"
     ]
    }
   ],
   "source": [
    "import numpy as np\n",
    "arr = np.array([1,2,3,4,5])\n",
    "print(arr.shape)"
   ]
  },
  {
   "cell_type": "code",
   "execution_count": 7,
   "id": "ed57c727-7b7f-4303-9054-b2f8cab37b4f",
   "metadata": {},
   "outputs": [
    {
     "name": "stdout",
     "output_type": "stream",
     "text": [
      "(2, 3)\n"
     ]
    }
   ],
   "source": [
    "import numpy as np\n",
    "arr = np.array([[1,2,3],\n",
    "                [4,5,6]])\n",
    "print(arr.shape)"
   ]
  },
  {
   "cell_type": "code",
   "execution_count": 4,
   "id": "6051af10-d24a-4ac2-9324-826a9cb53816",
   "metadata": {},
   "outputs": [
    {
     "name": "stdout",
     "output_type": "stream",
     "text": [
      "15\n"
     ]
    }
   ],
   "source": [
    "import numpy as np\n",
    "arr = np.array([1,2,3,4,5])\n",
    "arr_sum=arr.sum()\n",
    "print(arr_sum)"
   ]
  },
  {
   "cell_type": "code",
   "execution_count": 9,
   "id": "74d6e52b-35e2-448d-a8ca-0bcc3e98eb41",
   "metadata": {},
   "outputs": [
    {
     "name": "stdout",
     "output_type": "stream",
     "text": [
      "21\n"
     ]
    }
   ],
   "source": [
    "import numpy as np\n",
    "arr = np.array([[1,2,3],\n",
    "                [4,5,6]])\n",
    "print(arr.sum())"
   ]
  },
  {
   "cell_type": "code",
   "execution_count": 5,
   "id": "b5aeb0d3-d9c4-479b-9afe-31b8808a2a24",
   "metadata": {},
   "outputs": [
    {
     "name": "stdout",
     "output_type": "stream",
     "text": [
      "3.0\n"
     ]
    }
   ],
   "source": [
    "import numpy as np\n",
    "arr = np.array([1,2,3,4,5])\n",
    "arr_mean=arr.mean()\n",
    "print(arr_mean)"
   ]
  },
  {
   "cell_type": "code",
   "execution_count": 10,
   "id": "6ebabfd7-fd7c-42c6-9a2a-929ec0d8993a",
   "metadata": {},
   "outputs": [
    {
     "name": "stdout",
     "output_type": "stream",
     "text": [
      "3.5\n"
     ]
    }
   ],
   "source": [
    "import numpy as np\n",
    "arr = np.array([[1,2,3],\n",
    "                [4,5,6]])\n",
    "arr_mean=arr.mean()\n",
    "print(arr_mean)"
   ]
  },
  {
   "cell_type": "code",
   "execution_count": 11,
   "id": "acb6d983-db2a-4313-8cf9-cb9f5cf14d46",
   "metadata": {},
   "outputs": [
    {
     "name": "stdout",
     "output_type": "stream",
     "text": [
      "4\n"
     ]
    }
   ],
   "source": [
    "import numpy as np\n",
    "arr = np.array([[1,2,3],\n",
    "                [4,5,6]])\n",
    "print(arr.itemsize)"
   ]
  },
  {
   "cell_type": "code",
   "execution_count": null,
   "id": "0e2253c2-7998-465d-850a-279707f42a4a",
   "metadata": {},
   "outputs": [],
   "source": [
    "# Datatypes ----->\n",
    "To check the data type of a numpy ndarray object, you can use the dtype attritube\n",
    "* Integer - int8, int16, int32, int64 | dtype=np.int32 or dtype='i'\n",
    "* Float - float16, float32, float64, float128 | dtype=np.float32 or dtype='f'\n",
    "* Unsigned integer - uint8, uint16, uint32, uint64 | dtype=np.uint8 or dtype='u'\n",
    "* Boolean - True, False | dtype=np.bool_ or dtype='b'\n",
    "* String - \n",
    "    - str_method - Fixed-length strings | dtype=np.str_\n",
    "    - chararray method - Flexible-length strings, store element as byte | dtype=np.chararray\n",
    "    - character method - It store character as element | dtype=np.character\n",
    "* Complex - in the form a+bj | dtype=np.complex64"
   ]
  },
  {
   "cell_type": "code",
   "execution_count": 12,
   "id": "54a52227-cbcb-4b55-85b2-99939f1d64c3",
   "metadata": {},
   "outputs": [
    {
     "name": "stdout",
     "output_type": "stream",
     "text": [
      "int32\n"
     ]
    }
   ],
   "source": [
    "import numpy as np\n",
    "arr = np.array([1,2,3,4,5,6], dtype='i')\n",
    "print(arr.dtype)"
   ]
  },
  {
   "cell_type": "code",
   "execution_count": 13,
   "id": "6a5b236a-5a7b-44dd-a8d4-d7286b92c99e",
   "metadata": {},
   "outputs": [
    {
     "name": "stdout",
     "output_type": "stream",
     "text": [
      "float32\n"
     ]
    }
   ],
   "source": [
    "import numpy as np\n",
    "arr = np.array([1,2,3,4,5,6], dtype='f')\n",
    "print(arr.dtype)"
   ]
  },
  {
   "cell_type": "code",
   "execution_count": 15,
   "id": "7c536d31-3ba4-4400-a38c-642a48a47ccd",
   "metadata": {},
   "outputs": [
    {
     "name": "stdout",
     "output_type": "stream",
     "text": [
      "bool\n"
     ]
    }
   ],
   "source": [
    "import numpy as np\n",
    "arr = np.array([True, False, True], dtype=np.bool_)\n",
    "print(arr.dtype)"
   ]
  },
  {
   "cell_type": "code",
   "execution_count": 17,
   "id": "03a7aa19-7005-43cd-9efe-e4520bdb0987",
   "metadata": {},
   "outputs": [
    {
     "name": "stdout",
     "output_type": "stream",
     "text": [
      "<U8\n"
     ]
    }
   ],
   "source": [
    "import numpy as np\n",
    "arr = np.array(['Sahil', 'Siddhant', 'Rocky'], dtype=np.str_)\n",
    "print(arr.dtype)"
   ]
  },
  {
   "cell_type": "code",
   "execution_count": 18,
   "id": "9228ff3f-432f-4e3b-8acb-a64949928d4e",
   "metadata": {},
   "outputs": [
    {
     "name": "stdout",
     "output_type": "stream",
     "text": [
      "object\n"
     ]
    }
   ],
   "source": [
    "import numpy as np\n",
    "arr = np.array(['Sahil', 'Siddhant', 'Rocky'], dtype=np.chararray)\n",
    "print(arr.dtype)"
   ]
  },
  {
   "cell_type": "code",
   "execution_count": 19,
   "id": "1578a4be-7a03-4269-bbf4-fb798b581ec8",
   "metadata": {},
   "outputs": [
    {
     "name": "stdout",
     "output_type": "stream",
     "text": [
      "|S1\n"
     ]
    },
    {
     "name": "stderr",
     "output_type": "stream",
     "text": [
      "C:\\Users\\sahil\\AppData\\Local\\Temp\\ipykernel_12988\\1460785229.py:2: DeprecationWarning: Converting `np.character` to a dtype is deprecated. The current result is `np.dtype(np.str_)` which is not strictly correct. Note that `np.character` is generally deprecated and 'S1' should be used.\n",
      "  arr = np.array(['S', 'L', 'R'], dtype=np.character)\n"
     ]
    }
   ],
   "source": [
    "import numpy as np\n",
    "arr = np.array(['S', 'L', 'R'], dtype=np.character)\n",
    "print(arr.dtype)"
   ]
  },
  {
   "cell_type": "code",
   "execution_count": 20,
   "id": "785cbe29-6465-49e8-a287-678d1aa0fcb5",
   "metadata": {},
   "outputs": [
    {
     "name": "stdout",
     "output_type": "stream",
     "text": [
      "complex64\n"
     ]
    }
   ],
   "source": [
    "import numpy as np\n",
    "arr = np.array([1+3j, 3+6j, 4+8j], dtype=np.complex64)\n",
    "print(arr.dtype)"
   ]
  },
  {
   "cell_type": "code",
   "execution_count": null,
   "id": "0995de0b-0c09-4f2b-81fb-8f95b9d3378a",
   "metadata": {},
   "outputs": [],
   "source": [
    "# Special Datatype ---->\n",
    "* timedelta: It is a data type in Numpy that represents the difference between two dates or times. | dtype is timedelta64\n",
    "\n",
    "* object: It allows for mixed data types in an array, meaning each element can be of a different type"
   ]
  },
  {
   "cell_type": "code",
   "execution_count": 23,
   "id": "a03b1429-f193-4a1d-bff5-98d8d1f4bbf8",
   "metadata": {},
   "outputs": [
    {
     "name": "stdout",
     "output_type": "stream",
     "text": [
      "1 days\n",
      "timedelta64[D]\n"
     ]
    }
   ],
   "source": [
    "#timedelta\n",
    "import numpy as np\n",
    "date1=np.datetime64('2023-07-06')\n",
    "date2=np.datetime64('2023-07-05')\n",
    "time_difference=date1-date2\n",
    "print(time_difference)\n",
    "print(time_difference.dtype)"
   ]
  },
  {
   "cell_type": "code",
   "execution_count": 26,
   "id": "04674181-527a-4c4f-9db0-c876435b9267",
   "metadata": {},
   "outputs": [
    {
     "name": "stdout",
     "output_type": "stream",
     "text": [
      "2023-07-06T10:30:52\n"
     ]
    }
   ],
   "source": [
    "import numpy as np\n",
    "date1=np.datetime64('2023-07-06 10:30:52')\n",
    "print(date1)"
   ]
  },
  {
   "cell_type": "code",
   "execution_count": 27,
   "id": "6033e904-d5d3-4e80-a621-ed3963aa6265",
   "metadata": {},
   "outputs": [
    {
     "name": "stdout",
     "output_type": "stream",
     "text": [
      "[1 'sahil' 21.2 list([25, 45, 2])]\n"
     ]
    }
   ],
   "source": [
    "#object\n",
    "import numpy as np\n",
    "data=np.array([1,'sahil',21.2,[25,45,2]], dtype=object) #Array with mixed data type\n",
    "print(data)"
   ]
  },
  {
   "cell_type": "code",
   "execution_count": null,
   "id": "1e2a7113-695f-420c-ba91-5c9d29212b41",
   "metadata": {},
   "outputs": [],
   "source": [
    "# Data Type Conversion ---->\n",
    "* int to float:\n",
    "    ar_float=ar.astype(np.float64)\n",
    "\n",
    "* float to int:\n",
    "    ar_int=ar_float.astype(np.int32)"
   ]
  },
  {
   "cell_type": "code",
   "execution_count": 28,
   "id": "b13b23c0-5b92-41a0-b050-1e571458da55",
   "metadata": {},
   "outputs": [
    {
     "name": "stdout",
     "output_type": "stream",
     "text": [
      "Original Array:  [5 6 7 8 3]\n",
      "Original Array Data type:  int32\n",
      "New Array:  [5. 6. 7. 8. 3.]\n",
      "New Array Data type:  float64\n"
     ]
    }
   ],
   "source": [
    "# Data Type Conversion ---->\n",
    "# int to float:\n",
    "ar=np.array([5,6,7,8,3])\n",
    "ar_float=ar.astype(np.float64)\n",
    "print(\"Original Array: \",ar)\n",
    "print(\"Original Array Data type: \",ar.dtype)\n",
    "print(\"New Array: \",ar_float)\n",
    "print(\"New Array Data type: \",ar_float.dtype)"
   ]
  },
  {
   "cell_type": "code",
   "execution_count": 31,
   "id": "2081e260-faae-4610-b159-77446a7faf27",
   "metadata": {},
   "outputs": [
    {
     "name": "stdout",
     "output_type": "stream",
     "text": [
      "Original Array:  [5.5 6.6 7.7 8.8 3.3]\n",
      "Original Array Data type:  float64\n",
      "New Array:  [5 6 7 8 3]\n",
      "New Array Data type:  int32\n"
     ]
    }
   ],
   "source": [
    "# Data Type Conversion ---->\n",
    "# float to int:\n",
    "ar_float=np.array([5.5,6.6,7.7,8.8,3.3])\n",
    "ar_int=ar_float.astype(np.int32)\n",
    "print(\"Original Array: \",ar_float)\n",
    "print(\"Original Array Data type: \",ar_float.dtype)\n",
    "print(\"New Array: \",ar_int)\n",
    "print(\"New Array Data type: \",ar_int.dtype)"
   ]
  },
  {
   "cell_type": "code",
   "execution_count": null,
   "id": "00dd4883-8e30-4188-9b8d-f27e0cc209ea",
   "metadata": {},
   "outputs": [],
   "source": []
  }
 ],
 "metadata": {
  "kernelspec": {
   "display_name": "Python 3 (ipykernel)",
   "language": "python",
   "name": "python3"
  },
  "language_info": {
   "codemirror_mode": {
    "name": "ipython",
    "version": 3
   },
   "file_extension": ".py",
   "mimetype": "text/x-python",
   "name": "python",
   "nbconvert_exporter": "python",
   "pygments_lexer": "ipython3",
   "version": "3.11.5"
  }
 },
 "nbformat": 4,
 "nbformat_minor": 5
}
