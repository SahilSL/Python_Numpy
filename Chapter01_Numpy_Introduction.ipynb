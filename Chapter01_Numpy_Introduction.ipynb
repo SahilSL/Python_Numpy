{
 "cells": [
  {
   "cell_type": "code",
   "execution_count": null,
   "id": "a287e083",
   "metadata": {},
   "outputs": [],
   "source": [
    "What is Numpy?\n",
    "* Numpy means Numerical Python.\n",
    "* Open Source\n",
    "* Numerical Computing / Scientific Computing Library\n",
    "* N-dimensional array objects\n",
    "* It work with scientific Computing, Data Analysis and Machine Learning etc.\n",
    "* Mathematical Functions (Linear algebra, Fourier transformation, Statistical function, broadcasting and random number generation)\n"
   ]
  },
  {
   "cell_type": "code",
   "execution_count": null,
   "id": "940bcf2c",
   "metadata": {},
   "outputs": [],
   "source": [
    "Numpy Environment Setup ---->\n",
    "Open a CMD or PowerShell window on your computer.\n",
    "pip install numpy\n",
    "\n",
    "verify numpy -\n",
    "import numpy"
   ]
  },
  {
   "cell_type": "code",
   "execution_count": 25,
   "id": "dbcf1a9f",
   "metadata": {},
   "outputs": [
    {
     "name": "stdout",
     "output_type": "stream",
     "text": [
      "[1 2 3 4 5 6]\n"
     ]
    }
   ],
   "source": [
    "#importing library\n",
    "#np is alias\n",
    "import numpy as np \n",
    "\n",
    "#ar1 is the ndarray object\n",
    "ar1=np.array([1,2,3,4,5,6])\n",
    "print(arr1)"
   ]
  },
  {
   "cell_type": "code",
   "execution_count": 26,
   "id": "b01d6e3b",
   "metadata": {},
   "outputs": [
    {
     "name": "stdout",
     "output_type": "stream",
     "text": [
      "[[1 2 3]\n",
      " [4 5 6]]\n"
     ]
    }
   ],
   "source": [
    "#2x2 martix using numpy \n",
    "#Two-dimensional array\n",
    "ar2=np.array([[1,2,3],[4,5,6]])\n",
    "print(ar2)"
   ]
  },
  {
   "cell_type": "code",
   "execution_count": null,
   "id": "26fa8569",
   "metadata": {},
   "outputs": [],
   "source": []
  }
 ],
 "metadata": {
  "kernelspec": {
   "display_name": "Python 3 (ipykernel)",
   "language": "python",
   "name": "python3"
  },
  "language_info": {
   "codemirror_mode": {
    "name": "ipython",
    "version": 3
   },
   "file_extension": ".py",
   "mimetype": "text/x-python",
   "name": "python",
   "nbconvert_exporter": "python",
   "pygments_lexer": "ipython3",
   "version": "3.11.5"
  }
 },
 "nbformat": 4,
 "nbformat_minor": 5
}
